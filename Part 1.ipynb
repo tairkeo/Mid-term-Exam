{
 "cells": [
  {
   "cell_type": "markdown",
   "id": "72a88b44-d0bd-46fa-8f36-48d2139b86a9",
   "metadata": {},
   "source": [
    "I didnt know how to merge csv so I just look at data separately(sorry, not so programistic and messy)."
   ]
  },
  {
   "cell_type": "code",
   "execution_count": 32,
   "id": "c5716b10-d1e3-4bd6-90a4-bd0b30b2ad85",
   "metadata": {},
   "outputs": [
    {
     "data": {
      "text/plain": [
       "409.010009765625"
      ]
     },
     "execution_count": 32,
     "metadata": {},
     "output_type": "execute_result"
    }
   ],
   "source": [
    "import pandas as pd\n",
    "import numpy as np\n",
    "import matplotlib.pyplot as plt\n",
    "df = pd.read_csv('BIO.csv')\n",
    "df['Adj Close'].sort_values()\n",
    "df['Adj Close'].min()\n",
    "df['Adj Close'].max()\n",
    "df['Adj Close'].mean()\n",
    "df['Adj Close'].median()"
   ]
  },
  {
   "cell_type": "code",
   "execution_count": 7,
   "id": "034a19e2-33bb-4369-9efb-aa6ae9da38c7",
   "metadata": {},
   "outputs": [
    {
     "data": {
      "text/plain": [
       "2       158.606369\n",
       "1       160.896332\n",
       "0       160.915115\n",
       "3       160.940765\n",
       "4       160.940765\n",
       "           ...    \n",
       "1116    591.739990\n",
       "1114    594.299988\n",
       "1108    600.039978\n",
       "1115    603.530029\n",
       "1107    608.049988\n",
       "Name: Adj Close, Length: 1259, dtype: float64"
      ]
     },
     "execution_count": 7,
     "metadata": {},
     "output_type": "execute_result"
    }
   ],
   "source": [
    "df2 = pd.read_csv('COST.csv')\n",
    "df2['Adj Close'].sort_values()\n",
    "df2['Adj Close'].min()\n",
    "df2['Adj Close'].max()\n",
    "df2['Adj Close'].mean()\n",
    "df2['Adj Close'].median()"
   ]
  },
  {
   "cell_type": "code",
   "execution_count": 8,
   "id": "9a069468-9ce5-4ddc-af56-1ff0bb973599",
   "metadata": {},
   "outputs": [
    {
     "data": {
      "text/plain": [
       "591      57.109009\n",
       "590      60.310646\n",
       "586      60.840984\n",
       "584      62.638222\n",
       "600      62.964832\n",
       "           ...    \n",
       "1250    114.199997\n",
       "1246    114.360001\n",
       "1245    114.639999\n",
       "1244    115.070000\n",
       "1249    115.519997\n",
       "Name: Adj Close, Length: 1259, dtype: float64"
      ]
     },
     "execution_count": 8,
     "metadata": {},
     "output_type": "execute_result"
    }
   ],
   "source": [
    "df3 = pd.read_csv('GL.csv')\n",
    "df3['Adj Close'].sort_values()\n",
    "df3['Adj Close'].min()\n",
    "df3['Adj Close'].max()\n",
    "df3['Adj Close'].mean()\n",
    "df3['Adj Close'].median()"
   ]
  },
  {
   "cell_type": "code",
   "execution_count": null,
   "id": "6d6e4c24-1ec6-42a5-bc57-debcfd85a421",
   "metadata": {},
   "outputs": [],
   "source": [
    "df4 = pd.read_csv('ED.csv')\n",
    "df4['Adj Close'].sort_values()\n",
    "df4['Adj Close'].min()\n",
    "df4['Adj Close'].max()\n",
    "df4['Adj Close'].mean()\n",
    "df4['Adj Close'].median()\n",
    "\n",
    "df4['Date'] = pd.to_datetime(df4['Date'])\n",
    "\n",
    "df4.set_index('Date', inplace=True)\n",
    "\n",
    "monthly_data = df4['Diff'].resample('W-MON').sum()\n",
    "\n",
    "print(monthly_data.head())"
   ]
  },
  {
   "cell_type": "code",
   "execution_count": null,
   "id": "26e6b45e-53e8-4dee-95e7-792ed07ea14f",
   "metadata": {},
   "outputs": [],
   "source": [
    "df5 = pd.read_csv('HD.csv')\n",
    "df5['Adj Close'].sort_values()\n",
    "df5['Adj Close'].min()\n",
    "df5['Adj Close'].max()\n",
    "df5['Adj Close'].mean()\n",
    "df5['Adj Close'].median()\n",
    "\n",
    "df5['Diff'] = df5['High'] - df5['Low']\n",
    "\n",
    "min_diff = df5['Diff'].min()\n",
    "max_diff = df5['Diff'].max()\n",
    "\n",
    "print(f'Max gain is {max_diff}')\n",
    "print(f'Min gain is {min_diff}')\n",
    "\n",
    "monthly_data = df5['Diff'].resample('W-MON').sum()\n",
    "\n",
    "print(monthly_data.head())"
   ]
  },
  {
   "cell_type": "code",
   "execution_count": 18,
   "id": "8f065366-8efb-420b-80a5-aa5b0ff0ea8a",
   "metadata": {},
   "outputs": [
    {
     "data": {
      "text/html": [
       "<div>\n",
       "<style scoped>\n",
       "    .dataframe tbody tr th:only-of-type {\n",
       "        vertical-align: middle;\n",
       "    }\n",
       "\n",
       "    .dataframe tbody tr th {\n",
       "        vertical-align: top;\n",
       "    }\n",
       "\n",
       "    .dataframe thead th {\n",
       "        text-align: right;\n",
       "    }\n",
       "</style>\n",
       "<table border=\"1\" class=\"dataframe\">\n",
       "  <thead>\n",
       "    <tr style=\"text-align: right;\">\n",
       "      <th></th>\n",
       "      <th>Date</th>\n",
       "      <th>High</th>\n",
       "      <th>Low</th>\n",
       "      <th>Open</th>\n",
       "      <th>Close</th>\n",
       "      <th>Volume</th>\n",
       "      <th>Adj Close</th>\n",
       "    </tr>\n",
       "  </thead>\n",
       "  <tbody>\n",
       "    <tr>\n",
       "      <th>0</th>\n",
       "      <td>2017-11-13</td>\n",
       "      <td>166.639999</td>\n",
       "      <td>164.250000</td>\n",
       "      <td>164.639999</td>\n",
       "      <td>165.350006</td>\n",
       "      <td>7189300.0</td>\n",
       "      <td>149.874496</td>\n",
       "    </tr>\n",
       "    <tr>\n",
       "      <th>1</th>\n",
       "      <td>2017-11-14</td>\n",
       "      <td>168.139999</td>\n",
       "      <td>163.149994</td>\n",
       "      <td>163.619995</td>\n",
       "      <td>168.059998</td>\n",
       "      <td>10284000.0</td>\n",
       "      <td>152.330826</td>\n",
       "    </tr>\n",
       "    <tr>\n",
       "      <th>2</th>\n",
       "      <td>2017-11-15</td>\n",
       "      <td>167.440002</td>\n",
       "      <td>165.350006</td>\n",
       "      <td>167.440002</td>\n",
       "      <td>165.470001</td>\n",
       "      <td>5534500.0</td>\n",
       "      <td>149.983246</td>\n",
       "    </tr>\n",
       "    <tr>\n",
       "      <th>3</th>\n",
       "      <td>2017-11-16</td>\n",
       "      <td>167.759995</td>\n",
       "      <td>166.059998</td>\n",
       "      <td>166.679993</td>\n",
       "      <td>167.500000</td>\n",
       "      <td>4587900.0</td>\n",
       "      <td>151.823227</td>\n",
       "    </tr>\n",
       "    <tr>\n",
       "      <th>4</th>\n",
       "      <td>2017-11-17</td>\n",
       "      <td>168.429993</td>\n",
       "      <td>166.059998</td>\n",
       "      <td>167.000000</td>\n",
       "      <td>167.740005</td>\n",
       "      <td>4530100.0</td>\n",
       "      <td>152.040817</td>\n",
       "    </tr>\n",
       "  </tbody>\n",
       "</table>\n",
       "</div>"
      ],
      "text/plain": [
       "         Date        High         Low        Open       Close      Volume  \\\n",
       "0  2017-11-13  166.639999  164.250000  164.639999  165.350006   7189300.0   \n",
       "1  2017-11-14  168.139999  163.149994  163.619995  168.059998  10284000.0   \n",
       "2  2017-11-15  167.440002  165.350006  167.440002  165.470001   5534500.0   \n",
       "3  2017-11-16  167.759995  166.059998  166.679993  167.500000   4587900.0   \n",
       "4  2017-11-17  168.429993  166.059998  167.000000  167.740005   4530100.0   \n",
       "\n",
       "    Adj Close  \n",
       "0  149.874496  \n",
       "1  152.330826  \n",
       "2  149.983246  \n",
       "3  151.823227  \n",
       "4  152.040817  "
      ]
     },
     "execution_count": 18,
     "metadata": {},
     "output_type": "execute_result"
    }
   ],
   "source": [
    "df5.head()"
   ]
  },
  {
   "cell_type": "markdown",
   "id": "82be904f-7a03-4478-9b7f-8617f2c6c5d7",
   "metadata": {},
   "source": [
    "# Is there a company that has no difference between the Close and Adj Close columns?\n",
    "What does it mean from the financial point of view for the stock (you can get bonus\n",
    "partial points)? Yes There is no difference between the Close and Adj Close in BIO. I didnt know how to merge csv so I just look at data separately(sorry, not so programistic)."
   ]
  },
  {
   "cell_type": "markdown",
   "id": "9a5ed093-a216-40fa-9bbf-3b4c6cf37fe3",
   "metadata": {},
   "source": [
    "What is the highest and lowest price (Adj Close) each company recorded? I have done it with .sort_values().\n"
   ]
  },
  {
   "cell_type": "markdown",
   "id": "5c7aaa6c-90da-4d19-aa62-a5f43909c89c",
   "metadata": {},
   "source": [
    "(1pt task) Calculate logarithmic returns from Adj Close. For each company report on\n",
    "its, min, man, mean, median of the return distribution. I have done in withouit log."
   ]
  },
  {
   "cell_type": "markdown",
   "id": "ccf5d2b5-5c39-4360-85bb-82a79a6cb17a",
   "metadata": {},
   "source": [
    "When did each company record the highest gain and highest loss for the day?\n",
    "(logarithmic loss). Hint: idxmax  \n",
    "df5['Diff'] = df5['High'] - df5['Low']\n",
    "\n",
    "min_diff = df5['Diff'].min()\n",
    "max_diff = df5['Diff'].max()\n",
    "\n",
    "print(f'Max gain is {max_diff}')\n",
    "print(f'Min gain is {min_diff}')"
   ]
  },
  {
   "cell_type": "markdown",
   "id": "c7687c5f-70b9-4490-b14e-78f64dd63013",
   "metadata": {},
   "source": [
    "What is the average calendar weekly volume for each company? Hint: check how to\n",
    "resample pandas DF"
   ]
  },
  {
   "cell_type": "code",
   "execution_count": 31,
   "id": "7385705a-4f39-4a83-98b4-c83223c5b80b",
   "metadata": {},
   "outputs": [
    {
     "data": {
      "text/plain": [
       "(567565.900466919,\n",
       " 429554.0396575928,\n",
       " 115930.41004943848,\n",
       " 103946.66997528076,\n",
       " 321216.60969543457)"
      ]
     },
     "execution_count": 31,
     "metadata": {},
     "output_type": "execute_result"
    }
   ],
   "source": [
    "df['High'].sum(), df2['High'].sum(), df3['High'].sum(), df4['High'].sum(), df5['High'].sum()"
   ]
  },
  {
   "cell_type": "markdown",
   "id": "2df352ef-d97c-4ef3-a5a0-ff4607cfdd68",
   "metadata": {},
   "source": [
    "Which company recorded the highest total return over the whole period? The answer is BIO"
   ]
  },
  {
   "cell_type": "code",
   "execution_count": 35,
   "id": "260319c2-7d94-43bd-8129-75f40e9aaff9",
   "metadata": {},
   "outputs": [
    {
     "data": {
      "image/png": "[encoded data removed]",
      "text/plain": [
       "<Figure size 640x480 with 1 Axes>"
      ]
     },
     "metadata": {},
     "output_type": "display_data"
    }
   ],
   "source": [
    "plt.plot(df['Volume'])\n",
    "plt.show()"
   ]
  },
  {
   "cell_type": "code",
   "execution_count": 33,
   "id": "47d0e326-258e-4c2c-a926-c6823a8f4257",
   "metadata": {},
   "outputs": [
    {
     "data": {
      "text/html": [
       "<div>\n",
       "<style scoped>\n",
       "    .dataframe tbody tr th:only-of-type {\n",
       "        vertical-align: middle;\n",
       "    }\n",
       "\n",
       "    .dataframe tbody tr th {\n",
       "        vertical-align: top;\n",
       "    }\n",
       "\n",
       "    .dataframe thead th {\n",
       "        text-align: right;\n",
       "    }\n",
       "</style>\n",
       "<table border=\"1\" class=\"dataframe\">\n",
       "  <thead>\n",
       "    <tr style=\"text-align: right;\">\n",
       "      <th></th>\n",
       "      <th>Date</th>\n",
       "      <th>High</th>\n",
       "      <th>Low</th>\n",
       "      <th>Open</th>\n",
       "      <th>Close</th>\n",
       "      <th>Volume</th>\n",
       "      <th>Adj Close</th>\n",
       "    </tr>\n",
       "  </thead>\n",
       "  <tbody>\n",
       "    <tr>\n",
       "      <th>0</th>\n",
       "      <td>2017-11-13</td>\n",
       "      <td>256.720001</td>\n",
       "      <td>253.580002</td>\n",
       "      <td>256.720001</td>\n",
       "      <td>254.429993</td>\n",
       "      <td>261200</td>\n",
       "      <td>254.429993</td>\n",
       "    </tr>\n",
       "    <tr>\n",
       "      <th>1</th>\n",
       "      <td>2017-11-14</td>\n",
       "      <td>253.809998</td>\n",
       "      <td>251.740005</td>\n",
       "      <td>252.360001</td>\n",
       "      <td>253.220001</td>\n",
       "      <td>133200</td>\n",
       "      <td>253.220001</td>\n",
       "    </tr>\n",
       "    <tr>\n",
       "      <th>2</th>\n",
       "      <td>2017-11-15</td>\n",
       "      <td>256.660004</td>\n",
       "      <td>251.130005</td>\n",
       "      <td>253.179993</td>\n",
       "      <td>254.139999</td>\n",
       "      <td>137200</td>\n",
       "      <td>254.139999</td>\n",
       "    </tr>\n",
       "    <tr>\n",
       "      <th>3</th>\n",
       "      <td>2017-11-16</td>\n",
       "      <td>257.239990</td>\n",
       "      <td>255.419998</td>\n",
       "      <td>256.079987</td>\n",
       "      <td>256.260010</td>\n",
       "      <td>189700</td>\n",
       "      <td>256.260010</td>\n",
       "    </tr>\n",
       "    <tr>\n",
       "      <th>4</th>\n",
       "      <td>2017-11-17</td>\n",
       "      <td>256.929993</td>\n",
       "      <td>253.970001</td>\n",
       "      <td>255.839996</td>\n",
       "      <td>255.490005</td>\n",
       "      <td>129100</td>\n",
       "      <td>255.490005</td>\n",
       "    </tr>\n",
       "    <tr>\n",
       "      <th>...</th>\n",
       "      <td>...</td>\n",
       "      <td>...</td>\n",
       "      <td>...</td>\n",
       "      <td>...</td>\n",
       "      <td>...</td>\n",
       "      <td>...</td>\n",
       "      <td>...</td>\n",
       "    </tr>\n",
       "    <tr>\n",
       "      <th>1254</th>\n",
       "      <td>2022-11-07</td>\n",
       "      <td>382.510010</td>\n",
       "      <td>371.739990</td>\n",
       "      <td>381.070007</td>\n",
       "      <td>378.890015</td>\n",
       "      <td>355300</td>\n",
       "      <td>378.890015</td>\n",
       "    </tr>\n",
       "    <tr>\n",
       "      <th>1255</th>\n",
       "      <td>2022-11-08</td>\n",
       "      <td>402.910004</td>\n",
       "      <td>378.130005</td>\n",
       "      <td>380.809998</td>\n",
       "      <td>381.829987</td>\n",
       "      <td>460700</td>\n",
       "      <td>381.829987</td>\n",
       "    </tr>\n",
       "    <tr>\n",
       "      <th>1256</th>\n",
       "      <td>2022-11-09</td>\n",
       "      <td>406.410004</td>\n",
       "      <td>379.890015</td>\n",
       "      <td>380.149994</td>\n",
       "      <td>403.489990</td>\n",
       "      <td>647000</td>\n",
       "      <td>403.489990</td>\n",
       "    </tr>\n",
       "    <tr>\n",
       "      <th>1257</th>\n",
       "      <td>2022-11-10</td>\n",
       "      <td>430.170013</td>\n",
       "      <td>419.779999</td>\n",
       "      <td>420.750000</td>\n",
       "      <td>427.579987</td>\n",
       "      <td>428000</td>\n",
       "      <td>427.579987</td>\n",
       "    </tr>\n",
       "    <tr>\n",
       "      <th>1258</th>\n",
       "      <td>2022-11-11</td>\n",
       "      <td>450.809998</td>\n",
       "      <td>427.970001</td>\n",
       "      <td>428.910004</td>\n",
       "      <td>435.679993</td>\n",
       "      <td>365800</td>\n",
       "      <td>435.679993</td>\n",
       "    </tr>\n",
       "  </tbody>\n",
       "</table>\n",
       "<p>1259 rows × 7 columns</p>\n",
       "</div>"
      ],
      "text/plain": [
       "            Date        High         Low        Open       Close  Volume  \\\n",
       "0     2017-11-13  256.720001  253.580002  256.720001  254.429993  261200   \n",
       "1     2017-11-14  253.809998  251.740005  252.360001  253.220001  133200   \n",
       "2     2017-11-15  256.660004  251.130005  253.179993  254.139999  137200   \n",
       "3     2017-11-16  257.239990  255.419998  256.079987  256.260010  189700   \n",
       "4     2017-11-17  256.929993  253.970001  255.839996  255.490005  129100   \n",
       "...          ...         ...         ...         ...         ...     ...   \n",
       "1254  2022-11-07  382.510010  371.739990  381.070007  378.890015  355300   \n",
       "1255  2022-11-08  402.910004  378.130005  380.809998  381.829987  460700   \n",
       "1256  2022-11-09  406.410004  379.890015  380.149994  403.489990  647000   \n",
       "1257  2022-11-10  430.170013  419.779999  420.750000  427.579987  428000   \n",
       "1258  2022-11-11  450.809998  427.970001  428.910004  435.679993  365800   \n",
       "\n",
       "       Adj Close  \n",
       "0     254.429993  \n",
       "1     253.220001  \n",
       "2     254.139999  \n",
       "3     256.260010  \n",
       "4     255.490005  \n",
       "...          ...  \n",
       "1254  378.890015  \n",
       "1255  381.829987  \n",
       "1256  403.489990  \n",
       "1257  427.579987  \n",
       "1258  435.679993  \n",
       "\n",
       "[1259 rows x 7 columns]"
      ]
     },
     "execution_count": 33,
     "metadata": {},
     "output_type": "execute_result"
    }
   ],
   "source": [
    "df\n"
   ]
  }
 ],
 "metadata": {
  "kernelspec": {
   "display_name": "Python 3 (ipykernel)",
   "language": "python",
   "name": "python3"
  },
  "language_info": {
   "codemirror_mode": {
    "name": "ipython",
    "version": 3
   },
   "file_extension": ".py",
   "mimetype": "text/x-python",
   "name": "python",
   "nbconvert_exporter": "python",
   "pygments_lexer": "ipython3",
   "version": "3.11.7"
  }
 },
 "nbformat": 4,
 "nbformat_minor": 5
}
